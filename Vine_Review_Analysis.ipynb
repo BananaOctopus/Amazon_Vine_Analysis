{
  "nbformat": 4,
  "nbformat_minor": 0,
  "metadata": {
    "colab": {
      "name": "Vine_Review_Analysis.ipynb",
      "provenance": []
    },
    "kernelspec": {
      "name": "python3",
      "display_name": "Python 3"
    },
    "language_info": {
      "name": "python"
    }
  },
  "cells": [
    {
      "cell_type": "code",
      "metadata": {
        "colab": {
          "base_uri": "https://localhost:8080/"
        },
        "id": "-Tw7PrIElpgm",
        "outputId": "d5073a37-acb2-477f-ea04-5c5a2be7efc4"
      },
      "source": [
        "import os\n",
        "# Find the latest version of spark 3.0 from http://www.apache.org/dist/spark/ and enter as the spark version\n",
        "# For example:\n",
        "# spark_version = 'spark-3.0.3'\n",
        "spark_version = 'spark-3.0.3'\n",
        "os.environ['SPARK_VERSION']=spark_version\n",
        "\n",
        "# Install Spark and Java\n",
        "!apt-get update\n",
        "!apt-get install openjdk-11-jdk-headless -qq > /dev/null\n",
        "!wget -q http://www.apache.org/dist/spark/$SPARK_VERSION/$SPARK_VERSION-bin-hadoop2.7.tgz\n",
        "!tar xf $SPARK_VERSION-bin-hadoop2.7.tgz\n",
        "!pip install -q findspark\n",
        "\n",
        "# Set Environment Variables\n",
        "import os\n",
        "os.environ[\"JAVA_HOME\"] = \"/usr/lib/jvm/java-11-openjdk-amd64\"\n",
        "os.environ[\"SPARK_HOME\"] = f\"/content/{spark_version}-bin-hadoop2.7\"\n",
        "\n",
        "# Start a SparkSession\n",
        "import findspark\n",
        "findspark.init()"
      ],
      "execution_count": 1,
      "outputs": [
        {
          "output_type": "stream",
          "name": "stdout",
          "text": [
            "Get:1 https://cloud.r-project.org/bin/linux/ubuntu bionic-cran40/ InRelease [3,626 B]\n",
            "Ign:2 https://developer.download.nvidia.com/compute/cuda/repos/ubuntu1804/x86_64  InRelease\n",
            "Get:3 http://security.ubuntu.com/ubuntu bionic-security InRelease [88.7 kB]\n",
            "Hit:4 http://ppa.launchpad.net/c2d4u.team/c2d4u4.0+/ubuntu bionic InRelease\n",
            "Get:5 https://cloud.r-project.org/bin/linux/ubuntu bionic-cran40/ Packages [69.5 kB]\n",
            "Hit:6 http://archive.ubuntu.com/ubuntu bionic InRelease\n",
            "Hit:7 http://ppa.launchpad.net/cran/libgit2/ubuntu bionic InRelease\n",
            "Get:8 http://archive.ubuntu.com/ubuntu bionic-updates InRelease [88.7 kB]\n",
            "Ign:9 https://developer.download.nvidia.com/compute/machine-learning/repos/ubuntu1804/x86_64  InRelease\n",
            "Hit:10 https://developer.download.nvidia.com/compute/cuda/repos/ubuntu1804/x86_64  Release\n",
            "Hit:11 https://developer.download.nvidia.com/compute/machine-learning/repos/ubuntu1804/x86_64  Release\n",
            "Hit:12 http://ppa.launchpad.net/deadsnakes/ppa/ubuntu bionic InRelease\n",
            "Get:13 http://security.ubuntu.com/ubuntu bionic-security/main amd64 Packages [2,367 kB]\n",
            "Get:14 http://archive.ubuntu.com/ubuntu bionic-backports InRelease [74.6 kB]\n",
            "Hit:15 http://ppa.launchpad.net/graphics-drivers/ppa/ubuntu bionic InRelease\n",
            "Get:18 http://security.ubuntu.com/ubuntu bionic-security/universe amd64 Packages [1,431 kB]\n",
            "Get:19 http://security.ubuntu.com/ubuntu bionic-security/restricted amd64 Packages [607 kB]\n",
            "Get:20 http://archive.ubuntu.com/ubuntu bionic-updates/universe amd64 Packages [2,210 kB]\n",
            "Get:21 http://archive.ubuntu.com/ubuntu bionic-updates/restricted amd64 Packages [640 kB]\n",
            "Get:22 http://archive.ubuntu.com/ubuntu bionic-updates/main amd64 Packages [2,803 kB]\n",
            "Fetched 10.4 MB in 6s (1,823 kB/s)\n",
            "Reading package lists... Done\n"
          ]
        }
      ]
    },
    {
      "cell_type": "code",
      "metadata": {
        "colab": {
          "base_uri": "https://localhost:8080/"
        },
        "id": "MHYGHoWtoFjM",
        "outputId": "2100f516-1ba3-41b7-abc6-72cd713809d2"
      },
      "source": [
        "# Download the Postgres driver that will allow Spark to interact with Postgres.\n",
        "!wget https://jdbc.postgresql.org/download/postgresql-42.2.16.jar"
      ],
      "execution_count": 2,
      "outputs": [
        {
          "output_type": "stream",
          "name": "stdout",
          "text": [
            "--2021-10-17 16:13:26--  https://jdbc.postgresql.org/download/postgresql-42.2.16.jar\n",
            "Resolving jdbc.postgresql.org (jdbc.postgresql.org)... 72.32.157.228, 2001:4800:3e1:1::228\n",
            "Connecting to jdbc.postgresql.org (jdbc.postgresql.org)|72.32.157.228|:443... connected.\n",
            "HTTP request sent, awaiting response... 200 OK\n",
            "Length: 1002883 (979K) [application/java-archive]\n",
            "Saving to: ‘postgresql-42.2.16.jar’\n",
            "\n",
            "postgresql-42.2.16. 100%[===================>] 979.38K  1.22MB/s    in 0.8s    \n",
            "\n",
            "2021-10-17 16:13:28 (1.22 MB/s) - ‘postgresql-42.2.16.jar’ saved [1002883/1002883]\n",
            "\n"
          ]
        }
      ]
    },
    {
      "cell_type": "code",
      "metadata": {
        "id": "a8gbYpzHoJZ_"
      },
      "source": [
        "from pyspark.sql import SparkSession\n",
        "spark = SparkSession.builder.appName(\"M16-Amazon-Challenge\").config(\"spark.driver.extraClassPath\",\"/content/postgresql-42.2.16.jar\").getOrCreate()"
      ],
      "execution_count": 3,
      "outputs": []
    },
    {
      "cell_type": "code",
      "metadata": {
        "colab": {
          "base_uri": "https://localhost:8080/"
        },
        "id": "nxVL-7rZn0vu",
        "outputId": "0d833bd1-52d7-4632-e84f-7fb8ed1ad46f"
      },
      "source": [
        "from pyspark import SparkFiles\n",
        "url = \"https://s3.amazonaws.com/amazon-reviews-pds/tsv/amazon_reviews_us_Books_v1_01.tsv.gz\"\n",
        "spark.sparkContext.addFile(url)\n",
        "df = spark.read.option(\"encoding\", \"UTF-8\").csv(SparkFiles.get(\"\"), sep=\"\\t\", header=True, inferSchema=True)\n",
        "df.show()"
      ],
      "execution_count": 4,
      "outputs": [
        {
          "output_type": "stream",
          "name": "stdout",
          "text": [
            "+-----------+-----------+--------------+----------+--------------+--------------------+----------------+-----------+-------------+-----------+----+-----------------+--------------------+--------------------+-----------+\n",
            "|marketplace|customer_id|     review_id|product_id|product_parent|       product_title|product_category|star_rating|helpful_votes|total_votes|vine|verified_purchase|     review_headline|         review_body|review_date|\n",
            "+-----------+-----------+--------------+----------+--------------+--------------------+----------------+-----------+-------------+-----------+----+-----------------+--------------------+--------------------+-----------+\n",
            "|         US|   22480053|R28HBXXO1UEVJT|0843952016|      34858117|          The Rising|           Books|          5|            0|          0|   N|                N|Great Twist on Zo...|I've known about ...| 2012-05-03|\n",
            "|         US|   44244451| RZKRFS2UUMFFU|031088926X|     676347131|Sticky Faith Teen...|           Books|          5|           15|         15|   N|                Y|Helpful and Pract...|The student curri...| 2012-05-03|\n",
            "|         US|   20357422|R2WAU9MD9K6JQA|0615268102|     763837025|Black Passenger Y...|           Books|          3|            6|          8|   N|                N|                Paul|I found \\\\\"Black ...| 2012-05-03|\n",
            "|         US|   13235208|R36SCTKYTVPZPC|1900869225|     785539232|Direction and Des...|           Books|          5|           10|         11|   N|                Y|Direction and Des...|Sasportas is a br...| 2012-05-03|\n",
            "|         US|   26301786|R10BM6JUOJX27Q|1565129938|      64646125| Until the Next Time|           Books|          3|            0|          0|   Y|                N|       This was Okay|I wanted to love ...| 2012-05-03|\n",
            "|         US|   27780192| RCLZ5OKZNUSY4|146854456X|     270349766| Unfinished Business|           Books|          5|            0|          0|   N|                Y|   Excellent read!!!|What an exciting ...| 2012-05-03|\n",
            "|         US|   13041546|R1S65DJYEI89G4|1118094514|     752141158|The Republican Br...|           Books|          4|            8|         17|   N|                N|A must read for s...|This book is exce...| 2012-05-03|\n",
            "|         US|   51692331|R3KQYBQOLYDETV|0563521147|     729491316|Good Food: 101 Ca...|           Books|          4|            2|          2|   N|                N|   Chocoholic heaven|If you are on a d...| 2012-05-03|\n",
            "|         US|   23108524|R3QV8K7CSU8K2W|0669444421|     261004015|Patterns and Quil...|           Books|          5|            0|          0|   N|                N|Quilt Art Project...|Written by quilt ...| 2012-05-03|\n",
            "|         US|   51692331|R3W5A1WUGO5VQ0|1897784457|     497876045|Practical Food Sm...|           Books|          4|            0|          1|   N|                N|         A good read|Food smoking has ...| 2012-05-03|\n",
            "|         US|   49438248|R20AQCY3FMBVN5|0316738158|     691490916|The Big Love: A N...|           Books|          5|            0|          0|   N|                N|One of my favorites!|This is one of my...| 2012-05-03|\n",
            "|         US|   11818020| R7KY8VL871MVL|0738730440|     544176812|Around the Tarot ...|           Books|          5|           13|         15|   N|                Y|A must for tarot ...|I have been waiti...| 2012-05-03|\n",
            "|         US|   51692331| RHF5E4UOL5LQ3|1902842286|     698916699|Favourite Apple R...|           Books|          5|            2|          2|   N|                N|  A good little book|Jane Austen said ...| 2012-05-03|\n",
            "|         US|   29446920|R1LMUDN5M9G6ZZ|1465399577|     922463098|       Kevin and Tak|           Books|          5|            0|          0|   N|                N|            so great|I felt this was a...| 2012-05-03|\n",
            "|         US|   33284115| RNGA47KD4CEB8|0061934704|     740765152|Opium Nation: Chi...|           Books|          5|            0|          0|   N|                N|Knowing Afghanist...|Fariba Nawa, desc...| 2012-05-03|\n",
            "|         US|   44728718|R33MYHP5RY1139|1432729039|     116349266|        True to Life|           Books|          5|            3|          3|   N|                N|Modern poetry tha...|For many, reading...| 2012-05-03|\n",
            "|         US|   52534548|R18VIM840CEFRP|1621360075|     143884185|The Real Kosher J...|           Books|          1|           16|        105|   N|                N|                 SLH|I'm sorry, but ca...| 2012-05-03|\n",
            "|         US|   37836302| RQOZBXX7M0U6H|097723732X|     106641033|Idioms Go To The ...|           Books|          5|            0|          0|   N|                N|         Great book!|The (slightly) ea...| 2012-05-03|\n",
            "|         US|   38588903|R3SH84TAORQP2T|0983945209|     377432437|Elsie -  Adventur...|           Books|          5|            3|          3|   N|                N|      Terrific Book!|By Den Adler<br /...| 2012-05-03|\n",
            "|         US|   49148452| RL1OHWOHPM7RO|1419701630|     307676830|Chuck Close: Face...|           Books|          5|            8|          9|   N|                N|  Close and personal|The autobiography...| 2012-05-03|\n",
            "+-----------+-----------+--------------+----------+--------------+--------------------+----------------+-----------+-------------+-----------+----+-----------------+--------------------+--------------------+-----------+\n",
            "only showing top 20 rows\n",
            "\n"
          ]
        }
      ]
    },
    {
      "cell_type": "code",
      "metadata": {
        "colab": {
          "base_uri": "https://localhost:8080/"
        },
        "id": "mtHKuGO1oYR2",
        "outputId": "4fa0374e-3ed1-4826-a5ea-35772cdcab52"
      },
      "source": [
        "# Create the vine_table. DataFrame\n",
        "vine_df = df.select([\"review_id\", \"star_rating\", \"helpful_votes\", \"total_votes\", \"vine\", \"verified_purchase\"])\n",
        "vine_df.show()"
      ],
      "execution_count": 5,
      "outputs": [
        {
          "output_type": "stream",
          "name": "stdout",
          "text": [
            "+--------------+-----------+-------------+-----------+----+-----------------+\n",
            "|     review_id|star_rating|helpful_votes|total_votes|vine|verified_purchase|\n",
            "+--------------+-----------+-------------+-----------+----+-----------------+\n",
            "|R28HBXXO1UEVJT|          5|            0|          0|   N|                N|\n",
            "| RZKRFS2UUMFFU|          5|           15|         15|   N|                Y|\n",
            "|R2WAU9MD9K6JQA|          3|            6|          8|   N|                N|\n",
            "|R36SCTKYTVPZPC|          5|           10|         11|   N|                Y|\n",
            "|R10BM6JUOJX27Q|          3|            0|          0|   Y|                N|\n",
            "| RCLZ5OKZNUSY4|          5|            0|          0|   N|                Y|\n",
            "|R1S65DJYEI89G4|          4|            8|         17|   N|                N|\n",
            "|R3KQYBQOLYDETV|          4|            2|          2|   N|                N|\n",
            "|R3QV8K7CSU8K2W|          5|            0|          0|   N|                N|\n",
            "|R3W5A1WUGO5VQ0|          4|            0|          1|   N|                N|\n",
            "|R20AQCY3FMBVN5|          5|            0|          0|   N|                N|\n",
            "| R7KY8VL871MVL|          5|           13|         15|   N|                Y|\n",
            "| RHF5E4UOL5LQ3|          5|            2|          2|   N|                N|\n",
            "|R1LMUDN5M9G6ZZ|          5|            0|          0|   N|                N|\n",
            "| RNGA47KD4CEB8|          5|            0|          0|   N|                N|\n",
            "|R33MYHP5RY1139|          5|            3|          3|   N|                N|\n",
            "|R18VIM840CEFRP|          1|           16|        105|   N|                N|\n",
            "| RQOZBXX7M0U6H|          5|            0|          0|   N|                N|\n",
            "|R3SH84TAORQP2T|          5|            3|          3|   N|                N|\n",
            "| RL1OHWOHPM7RO|          5|            8|          9|   N|                N|\n",
            "+--------------+-----------+-------------+-----------+----+-----------------+\n",
            "only showing top 20 rows\n",
            "\n"
          ]
        }
      ]
    },
    {
      "cell_type": "code",
      "metadata": {
        "colab": {
          "base_uri": "https://localhost:8080/"
        },
        "id": "rwbZhz01qWvw",
        "outputId": "537fde04-2575-4561-801f-679c69dd5617"
      },
      "source": [
        "# Create the total_votes DataFrame\n",
        "# Filter the data and create a new DataFrame to retrieve all the rows where the total_votes count is equal to or greater than 20\n",
        "total_votes_df = vine_df.filter(\"total_votes >= 20\")\n",
        "total_votes_df.show(truncate=False)"
      ],
      "execution_count": 6,
      "outputs": [
        {
          "output_type": "stream",
          "name": "stdout",
          "text": [
            "+--------------+-----------+-------------+-----------+----+-----------------+\n",
            "|review_id     |star_rating|helpful_votes|total_votes|vine|verified_purchase|\n",
            "+--------------+-----------+-------------+-----------+----+-----------------+\n",
            "|R18VIM840CEFRP|1          |16           |105        |N   |N                |\n",
            "|R14PMAJTY0EAAT|4          |135          |142        |N   |Y                |\n",
            "|R1363VA3TPNLVB|5          |370          |388        |N   |Y                |\n",
            "|RBQZC5A3TSWT5 |5          |11           |22         |N   |Y                |\n",
            "|RW00TDPV9U93E |1          |35           |76         |N   |N                |\n",
            "|R3OW0AIVLEDIQ7|3          |99           |121        |N   |N                |\n",
            "|R3DTESO4FUAPKQ|5          |90           |102        |N   |N                |\n",
            "|R18I0XBYWFSR5T|1          |16           |50         |N   |N                |\n",
            "|R1VSQ3QK30VDI0|5          |23           |35         |N   |N                |\n",
            "|R3NEJBF4FXMVUU|5          |87           |90         |N   |Y                |\n",
            "|R34ZTQTHWRHT5R|5          |18           |20         |N   |Y                |\n",
            "|R367X555006ROC|1          |39           |44         |N   |N                |\n",
            "|R4NCMAZCRAXHT |3          |19           |21         |N   |N                |\n",
            "|R1WQJ6BTGTJNHM|3          |6            |47         |N   |N                |\n",
            "|R33JIVA97UYKH2|2          |23           |29         |N   |Y                |\n",
            "|RSD6TF0E24D9P |5          |30           |34         |N   |Y                |\n",
            "|R2DLFW0GMIFTKP|5          |53           |58         |N   |Y                |\n",
            "|RQZ638E0E34Z3 |2          |259          |299        |N   |N                |\n",
            "|R2RP1D1I036Q6C|1          |20           |34         |N   |N                |\n",
            "|R3TJPP6SLHXO41|1          |16           |27         |N   |Y                |\n",
            "+--------------+-----------+-------------+-----------+----+-----------------+\n",
            "only showing top 20 rows\n",
            "\n"
          ]
        }
      ]
    },
    {
      "cell_type": "code",
      "metadata": {
        "colab": {
          "base_uri": "https://localhost:8080/"
        },
        "id": "y7N_M60EsehW",
        "outputId": "eb41cb2a-a5b0-4ab5-80d1-3e4bc09b91de"
      },
      "source": [
        "# Filter helpful_votes_df, create new DataFrame to retrieve all the rows where # of helpful_votes / by total_votes is >= 50%\n",
        "helpful_votes_df = total_votes_df.filter((total_votes_df.helpful_votes/total_votes_df.total_votes) >= 0.5)\n",
        "helpful_votes_df.show()"
      ],
      "execution_count": 7,
      "outputs": [
        {
          "output_type": "stream",
          "name": "stdout",
          "text": [
            "+--------------+-----------+-------------+-----------+----+-----------------+\n",
            "|     review_id|star_rating|helpful_votes|total_votes|vine|verified_purchase|\n",
            "+--------------+-----------+-------------+-----------+----+-----------------+\n",
            "|R14PMAJTY0EAAT|          4|          135|        142|   N|                Y|\n",
            "|R1363VA3TPNLVB|          5|          370|        388|   N|                Y|\n",
            "| RBQZC5A3TSWT5|          5|           11|         22|   N|                Y|\n",
            "|R3OW0AIVLEDIQ7|          3|           99|        121|   N|                N|\n",
            "|R3DTESO4FUAPKQ|          5|           90|        102|   N|                N|\n",
            "|R1VSQ3QK30VDI0|          5|           23|         35|   N|                N|\n",
            "|R3NEJBF4FXMVUU|          5|           87|         90|   N|                Y|\n",
            "|R34ZTQTHWRHT5R|          5|           18|         20|   N|                Y|\n",
            "|R367X555006ROC|          1|           39|         44|   N|                N|\n",
            "| R4NCMAZCRAXHT|          3|           19|         21|   N|                N|\n",
            "|R33JIVA97UYKH2|          2|           23|         29|   N|                Y|\n",
            "| RSD6TF0E24D9P|          5|           30|         34|   N|                Y|\n",
            "|R2DLFW0GMIFTKP|          5|           53|         58|   N|                Y|\n",
            "| RQZ638E0E34Z3|          2|          259|        299|   N|                N|\n",
            "|R2RP1D1I036Q6C|          1|           20|         34|   N|                N|\n",
            "|R3TJPP6SLHXO41|          1|           16|         27|   N|                Y|\n",
            "|R2DK25C3UOICDC|          5|           13|         22|   N|                N|\n",
            "|R3LWNR7QFH1P0U|          1|           18|         24|   N|                N|\n",
            "|R32X7O6DKBEXM0|          5|           25|         26|   N|                N|\n",
            "|R16VVIH03CTRHB|          5|           16|         25|   N|                Y|\n",
            "+--------------+-----------+-------------+-----------+----+-----------------+\n",
            "only showing top 20 rows\n",
            "\n"
          ]
        }
      ]
    },
    {
      "cell_type": "code",
      "metadata": {
        "colab": {
          "base_uri": "https://localhost:8080/"
        },
        "id": "E-Au5-7_wTcW",
        "outputId": "6dc706e5-72f2-494b-fa5b-7c40f900fc75"
      },
      "source": [
        "#Filter helpful_votes_df, create new DataFrame that retrieves rows where a review was written as part of the Vine program \n",
        "vine_part_df = helpful_votes_df.filter(\"vine == 'Y'\")\n",
        "vine_part_df.show()"
      ],
      "execution_count": 8,
      "outputs": [
        {
          "output_type": "stream",
          "name": "stdout",
          "text": [
            "+--------------+-----------+-------------+-----------+----+-----------------+\n",
            "|     review_id|star_rating|helpful_votes|total_votes|vine|verified_purchase|\n",
            "+--------------+-----------+-------------+-----------+----+-----------------+\n",
            "|R2Z8083V8ZFQVZ|          3|           82|         87|   Y|                N|\n",
            "| RK25TAO4GGS5G|          3|           22|         24|   Y|                N|\n",
            "|R2SJQG3C6KY0M8|          3|           18|         20|   Y|                N|\n",
            "|R12CHC0CB2WASU|          5|           43|         48|   Y|                N|\n",
            "|R2RY328TIDXMTE|          2|           50|         61|   Y|                N|\n",
            "|R3K8OQU4PEP8W7|          4|           40|         46|   Y|                N|\n",
            "|R1JI1A7JT99538|          3|           28|         40|   Y|                N|\n",
            "|R247K3K5SVPJUL|          3|           15|         20|   Y|                N|\n",
            "|R27UEUDUYPLXZC|          5|           20|         24|   Y|                N|\n",
            "|R2QQDNBYDIEL9F|          5|           35|         41|   Y|                N|\n",
            "|R26ELQU09IPX5K|          2|           11|         21|   Y|                N|\n",
            "| RSKUR90HGW6PY|          3|           34|         54|   Y|                N|\n",
            "|R1W7MQRB02CRG8|          4|           20|         22|   Y|                N|\n",
            "|R3LJN6BQL2F0BR|          1|           28|         34|   Y|                N|\n",
            "|R3FO8YQ2BKL1RG|          5|           93|         94|   Y|                N|\n",
            "|R27HEI4FN6TZQ7|          3|           20|         27|   Y|                N|\n",
            "|R3DRE8T4NTEWNV|          5|           28|         28|   Y|                N|\n",
            "|R33G38RMCEXIVD|          4|           28|         29|   Y|                N|\n",
            "|R2ZD6GIDCKAJNM|          5|          118|        139|   Y|                N|\n",
            "|R3DKQQNX6X3VTU|          4|           53|         56|   Y|                N|\n",
            "+--------------+-----------+-------------+-----------+----+-----------------+\n",
            "only showing top 20 rows\n",
            "\n"
          ]
        }
      ]
    },
    {
      "cell_type": "code",
      "metadata": {
        "colab": {
          "base_uri": "https://localhost:8080/"
        },
        "id": "rwHY1-6TxmoX",
        "outputId": "1a85f87a-5b36-4ce8-a567-7fb15ce6382b"
      },
      "source": [
        "#Filter helpful_votes_df, create new DataFrame that retrieves rows where a review was written as NOT part of the Vine program \n",
        "nonvine_df = helpful_votes_df.filter(\"vine == 'N'\")\n",
        "nonvine_df.show()"
      ],
      "execution_count": 9,
      "outputs": [
        {
          "output_type": "stream",
          "name": "stdout",
          "text": [
            "+--------------+-----------+-------------+-----------+----+-----------------+\n",
            "|     review_id|star_rating|helpful_votes|total_votes|vine|verified_purchase|\n",
            "+--------------+-----------+-------------+-----------+----+-----------------+\n",
            "|R14PMAJTY0EAAT|          4|          135|        142|   N|                Y|\n",
            "|R1363VA3TPNLVB|          5|          370|        388|   N|                Y|\n",
            "| RBQZC5A3TSWT5|          5|           11|         22|   N|                Y|\n",
            "|R3OW0AIVLEDIQ7|          3|           99|        121|   N|                N|\n",
            "|R3DTESO4FUAPKQ|          5|           90|        102|   N|                N|\n",
            "|R1VSQ3QK30VDI0|          5|           23|         35|   N|                N|\n",
            "|R3NEJBF4FXMVUU|          5|           87|         90|   N|                Y|\n",
            "|R34ZTQTHWRHT5R|          5|           18|         20|   N|                Y|\n",
            "|R367X555006ROC|          1|           39|         44|   N|                N|\n",
            "| R4NCMAZCRAXHT|          3|           19|         21|   N|                N|\n",
            "|R33JIVA97UYKH2|          2|           23|         29|   N|                Y|\n",
            "| RSD6TF0E24D9P|          5|           30|         34|   N|                Y|\n",
            "|R2DLFW0GMIFTKP|          5|           53|         58|   N|                Y|\n",
            "| RQZ638E0E34Z3|          2|          259|        299|   N|                N|\n",
            "|R2RP1D1I036Q6C|          1|           20|         34|   N|                N|\n",
            "|R3TJPP6SLHXO41|          1|           16|         27|   N|                Y|\n",
            "|R2DK25C3UOICDC|          5|           13|         22|   N|                N|\n",
            "|R3LWNR7QFH1P0U|          1|           18|         24|   N|                N|\n",
            "|R32X7O6DKBEXM0|          5|           25|         26|   N|                N|\n",
            "|R16VVIH03CTRHB|          5|           16|         25|   N|                Y|\n",
            "+--------------+-----------+-------------+-----------+----+-----------------+\n",
            "only showing top 20 rows\n",
            "\n"
          ]
        }
      ]
    },
    {
      "cell_type": "code",
      "metadata": {
        "colab": {
          "base_uri": "https://localhost:8080/"
        },
        "id": "diu3pV86ykX7",
        "outputId": "a9efdcf8-285c-4c1c-ad9f-468f995c2440"
      },
      "source": [
        "#Determine the total number of reviews\n",
        "helpful_votes_df.count()"
      ],
      "execution_count": 10,
      "outputs": [
        {
          "output_type": "execute_result",
          "data": {
            "text/plain": [
              "337176"
            ]
          },
          "metadata": {},
          "execution_count": 10
        }
      ]
    },
    {
      "cell_type": "code",
      "metadata": {
        "colab": {
          "base_uri": "https://localhost:8080/"
        },
        "id": "TCGat31R_Cds",
        "outputId": "f3d61c15-a5ee-4b17-e40b-9939b0239583"
      },
      "source": [
        "#Determine the total number of 5 star reviews\n",
        "helpful_votes_df.filter(\"star_rating==5\").count()"
      ],
      "execution_count": 11,
      "outputs": [
        {
          "output_type": "execute_result",
          "data": {
            "text/plain": [
              "170404"
            ]
          },
          "metadata": {},
          "execution_count": 11
        }
      ]
    },
    {
      "cell_type": "code",
      "metadata": {
        "colab": {
          "base_uri": "https://localhost:8080/"
        },
        "id": "TE-FCf-hyxvt",
        "outputId": "207badb6-6464-4cae-9e24-5d8884578213"
      },
      "source": [
        "#Determine the number of 5-star reviews, first count paid reviews\n",
        "paid_reviews_count = vine_part_df.count()\n",
        "paid_reviews_count"
      ],
      "execution_count": 12,
      "outputs": [
        {
          "output_type": "execute_result",
          "data": {
            "text/plain": [
              "4781"
            ]
          },
          "metadata": {},
          "execution_count": 12
        }
      ]
    },
    {
      "cell_type": "code",
      "metadata": {
        "colab": {
          "base_uri": "https://localhost:8080/"
        },
        "id": "CZitlZdy8DoR",
        "outputId": "7f71c8e9-c49b-4b77-923e-91f756751eb3"
      },
      "source": [
        "#Determine the number of 5-star reviews,  second count unpaid reviews\n",
        "unpaid_reviews_count = nonvine_df.count()\n",
        "unpaid_reviews_count"
      ],
      "execution_count": 13,
      "outputs": [
        {
          "output_type": "execute_result",
          "data": {
            "text/plain": [
              "332395"
            ]
          },
          "metadata": {},
          "execution_count": 13
        }
      ]
    },
    {
      "cell_type": "code",
      "metadata": {
        "colab": {
          "base_uri": "https://localhost:8080/"
        },
        "id": "_v0Gh5dP8nq_",
        "outputId": "86fd2a56-a7a8-4e96-8ff3-615794ffadb6"
      },
      "source": [
        "#Determine the number of 5-star reviews, third filter out five star reviews from paid reviews\n",
        "paid_five_star_reviews = vine_part_df.filter(vine_part_df.star_rating==5).count()\n",
        "paid_five_star_reviews"
      ],
      "execution_count": 14,
      "outputs": [
        {
          "output_type": "execute_result",
          "data": {
            "text/plain": [
              "1604"
            ]
          },
          "metadata": {},
          "execution_count": 14
        }
      ]
    },
    {
      "cell_type": "code",
      "metadata": {
        "colab": {
          "base_uri": "https://localhost:8080/"
        },
        "id": "TqG2rDM68n8o",
        "outputId": "f1c593e7-b730-40e4-8e39-ff806ce90484"
      },
      "source": [
        "#Determine the number of 5-star reviews, fourth filter out five star reviews from UNpaid reviews\n",
        "UNpaid_five_star_reviews = nonvine_df.filter(nonvine_df.star_rating==5).count()\n",
        "UNpaid_five_star_reviews"
      ],
      "execution_count": 15,
      "outputs": [
        {
          "output_type": "execute_result",
          "data": {
            "text/plain": [
              "168800"
            ]
          },
          "metadata": {},
          "execution_count": 15
        }
      ]
    },
    {
      "cell_type": "code",
      "metadata": {
        "colab": {
          "base_uri": "https://localhost:8080/"
        },
        "id": "ad6lFWK45Jj_",
        "outputId": "4bb3935f-a3c0-4b29-926e-c779a72ec6c9"
      },
      "source": [
        "#Determine the percentage of 5-star reviews for the paid reviews, divid total paid by 5-star paid reviews\n",
        "percent_paid = (paid_five_star_reviews/paid_reviews_count)*100\n",
        "percent_paid"
      ],
      "execution_count": 20,
      "outputs": [
        {
          "output_type": "execute_result",
          "data": {
            "text/plain": [
              "33.5494666387785"
            ]
          },
          "metadata": {},
          "execution_count": 20
        }
      ]
    },
    {
      "cell_type": "code",
      "metadata": {
        "colab": {
          "base_uri": "https://localhost:8080/"
        },
        "id": "jOpIVRpPz5QD",
        "outputId": "7f482b8a-a4e9-4435-90d5-85152d3cf059"
      },
      "source": [
        "#Determine the percentage of 5-star reviews for the UNpaid reviews, divide total unpaid by 5-star unpaid reviews\n",
        "percent_unpaid = (UNpaid_five_star_reviews/unpaid_reviews_count)*100\n",
        "percent_unpaid"
      ],
      "execution_count": 21,
      "outputs": [
        {
          "output_type": "execute_result",
          "data": {
            "text/plain": [
              "50.782954015553784"
            ]
          },
          "metadata": {},
          "execution_count": 21
        }
      ]
    }
  ]
}